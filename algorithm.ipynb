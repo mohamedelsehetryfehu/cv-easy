{
  "nbformat": 4,
  "nbformat_minor": 0,
  "metadata": {
    "colab": {
      "provenance": [],
      "include_colab_link": true
    },
    "kernelspec": {
      "name": "python3",
      "display_name": "Python 3"
    },
    "language_info": {
      "name": "python"
    }
  },
  "cells": [
    {
      "cell_type": "markdown",
      "metadata": {
        "id": "view-in-github",
        "colab_type": "text"
      },
      "source": [
        "<a href=\"https://colab.research.google.com/github/mohamedelsehetryfehu/cv-easy/blob/main/cv_easy.ipynb\" target=\"_parent\"><img src=\"https://colab.research.google.com/assets/colab-badge.svg\" alt=\"Open In Colab\"/></a>"
      ]
    },
    {
      "cell_type": "code",
      "source": [
        "import numpy as np\n",
        "from PIL import Image\n",
        "import cv2"
      ],
      "metadata": {
        "id": "Hhrl377QR1I5"
      },
      "execution_count": 1,
      "outputs": []
    },
    {
      "cell_type": "code",
      "source": [
        "def convert_to_grayscale(image):\n",
        "    return image.convert('L')"
      ],
      "metadata": {
        "id": "PmWMAKgTR5pt"
      },
      "execution_count": null,
      "outputs": []
    },
    {
      "cell_type": "code",
      "source": [
        "def extract_shreds(image, shred_width):\n",
        "    shreds = []\n",
        "    width, height = image.size\n",
        "    for x in range(0, width, shred_width):\n",
        "        shred = image.crop((x, 0, x + shred_width, height))\n",
        "        shreds.append(np.array(shred))\n",
        "    return shreds"
      ],
      "metadata": {
        "id": "ZGcSyySkR7gd"
      },
      "execution_count": null,
      "outputs": []
    },
    {
      "cell_type": "code",
      "source": [
        "def compute_similarity(shred1, shred2):\n",
        "    return np.sum(shred1[:, -1] == shred2[:, 0])"
      ],
      "metadata": {
        "id": "8ml3p0kNR-G2"
      },
      "execution_count": null,
      "outputs": []
    },
    {
      "cell_type": "code",
      "source": [
        "def find_best_match(shred_index, shreds, remaining_indices):\n",
        "    best_score = -1\n",
        "    best_match_index = -1\n",
        "\n",
        "    for i in remaining_indices:\n",
        "        score = compute_similarity(shreds[shred_index], shreds[i])\n",
        "        if score > best_score:\n",
        "            best_score = score\n",
        "            best_match_index = i\n",
        "\n",
        "    return best_match_index"
      ],
      "metadata": {
        "id": "pw0v61QnSAQu"
      },
      "execution_count": null,
      "outputs": []
    },
    {
      "cell_type": "code",
      "source": [
        "def order_shreds(shreds):\n",
        "    ordered_indices = [0]  # Start with the leftmost shred\n",
        "    remaining_indices = list(range(1, len(shreds)))\n",
        "\n",
        "    while remaining_indices:\n",
        "        last_shred_index = ordered_indices[-1]\n",
        "        best_match_index = find_best_match(last_shred_index, shreds, remaining_indices)\n",
        "        ordered_indices.append(best_match_index)\n",
        "        remaining_indices.remove(best_match_index)\n",
        "\n",
        "    return ordered_indices"
      ],
      "metadata": {
        "id": "pJiecdO4SznS"
      },
      "execution_count": null,
      "outputs": []
    },
    {
      "cell_type": "code",
      "source": [
        "# Example usage\n",
        "input_image_path = \"shredded.jpg\"\n",
        "shred_width = 64\n",
        "\n",
        "input_image = Image.open(input_image_path)\n",
        "grayscale_image = convert_to_grayscale(input_image)\n",
        "shreds = extract_shreds(grayscale_image, shred_width)\n",
        "\n",
        "ordered_indices = order_shreds(shreds)\n",
        "print(ordered_indices)"
      ],
      "metadata": {
        "colab": {
          "base_uri": "https://localhost:8080/"
        },
        "id": "PQxfb2opS5mb",
        "outputId": "038bf1ec-b834-4a1f-d133-25a6d2e16f83"
      },
      "execution_count": null,
      "outputs": [
        {
          "output_type": "execute_result",
          "data": {
            "text/plain": [
              "array('shredded.jpg', dtype='<U12')"
            ]
          },
          "metadata": {},
          "execution_count": 4
        }
      ]
    }
  ]
}
